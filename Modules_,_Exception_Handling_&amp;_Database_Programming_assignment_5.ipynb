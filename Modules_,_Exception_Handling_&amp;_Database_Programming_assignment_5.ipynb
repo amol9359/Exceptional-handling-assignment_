{
  "nbformat": 4,
  "nbformat_minor": 0,
  "metadata": {
    "colab": {
      "name": "Modules , Exception Handling &amp; Database Programming assignment_5",
      "provenance": [],
      "collapsed_sections": []
    },
    "kernelspec": {
      "name": "python3",
      "display_name": "Python 3"
    },
    "language_info": {
      "name": "python"
    }
  },
  "cells": [
    {
      "cell_type": "markdown",
      "source": [
        "1. Write a function to compute 5/0 and use try/except to catch the exceptions.\n",
        "\n",
        "2. Implement a Python program to generate all sentences where subject is in\n",
        "[\"Americans\", \"Indians\"] and verb is in [\"Play\", \"watch\"] and the object is in\n",
        "[\"Baseball\",\"cricket\"].\n",
        "Hint: Subject,Verb and Object should be declared in the program as shown below.\n",
        "subjects=[\"Americans \",\"Indians\"]\n",
        "verbs=[\"play\",\"watch\"]\n",
        "objects=[\"Baseball\",\"Cricket\"]\n",
        "Output should come as below:\n",
        "Americans play Baseball.\n",
        "Americans play Cricket.\n",
        "Americans watch Baseball.\n",
        "Americans watch Cricket.\n",
        "Indians play Baseball.\n",
        "Indians play Cricket.\n",
        "Indians watch Baseball.\n",
        "Indians watch Cricket.\n"
      ],
      "metadata": {
        "id": "aQL7njE5M3_H"
      }
    },
    {
      "cell_type": "code",
      "source": [
        "#Q1)\n",
        "import numpy as np\n",
        "x=np.array([1,2,3,4,5])\n",
        "N=5\n",
        "matrix=np.column_stack([x**(N-i-1) for i in range(N)])\n",
        "print(matrix)"
      ],
      "metadata": {
        "colab": {
          "base_uri": "https://localhost:8080/"
        },
        "id": "Hq61mEeNDQj8",
        "outputId": "d8956d5e-8dc5-44c2-cabd-ac7c704132dd"
      },
      "execution_count": null,
      "outputs": [
        {
          "output_type": "stream",
          "name": "stdout",
          "text": [
            "[[  1   1   1   1   1]\n",
            " [ 16   8   4   2   1]\n",
            " [ 81  27   9   3   1]\n",
            " [256  64  16   4   1]\n",
            " [625 125  25   5   1]]\n"
          ]
        }
      ]
    },
    {
      "cell_type": "code",
      "source": [
        "#Q2)\n",
        "def mov_avg_val(mylist, N):\n",
        "    cumsum, moving_aves = [0], []\n",
        "    for i, x in enumerate(mylist, 1):\n",
        "        cumsum.append(cumsum[i-1] + x) # summing up all the values one by one and appending the list\n",
        "        if i>=N:\n",
        "            moving_ave = round(((cumsum[i] - cumsum[i-N])/N),2) #computing the moving average using temp array sum array cumsum\n",
        "            #can do stuff with moving_ave here\n",
        "            moving_aves.append(moving_ave) # listing the moving average as an single array\n",
        "    print(\"Moving average values list: \", moving_aves)\n",
        "    print(\"Length of the list l-N+1: \", len(moving_aves))\n"
      ],
      "metadata": {
        "id": "47yVnEWZBvjr"
      },
      "execution_count": null,
      "outputs": []
    },
    {
      "cell_type": "code",
      "source": [
        "mylist = [10, 20, 30, 40, 50, 60, 70, 80, 90, 100]\n",
        "N = 4\n",
        "\n",
        "mov_avg_val(mylist,N)"
      ],
      "metadata": {
        "colab": {
          "base_uri": "https://localhost:8080/"
        },
        "id": "xxZ8yBJpDcNC",
        "outputId": "30dcc19d-41c4-4b72-f9b5-0f2d02dea484"
      },
      "execution_count": null,
      "outputs": [
        {
          "output_type": "stream",
          "name": "stdout",
          "text": [
            "Moving average values list:  [25.0, 35.0, 45.0, 55.0, 65.0, 75.0, 85.0]\n",
            "Length of the list l-N+1:  7\n"
          ]
        }
      ]
    },
    {
      "cell_type": "code",
      "source": [
        "mylist = [3, 5, 7, 2, 8, 10, 11, 65, 72, 81, 99, 100, 150]\n",
        "N = 3\n",
        "\n",
        "mov_avg_val(mylist,N)  "
      ],
      "metadata": {
        "colab": {
          "base_uri": "https://localhost:8080/"
        },
        "id": "CRx3D1lADA7u",
        "outputId": "08f14ea7-622d-4d7f-c2e3-1e4f57705115"
      },
      "execution_count": null,
      "outputs": [
        {
          "output_type": "stream",
          "name": "stdout",
          "text": [
            "Moving average values list:  [5.0, 4.67, 5.67, 6.67, 9.67, 28.67, 49.33, 72.67, 84.0, 93.33, 116.33]\n",
            "Length of the list l-N+1:  11\n"
          ]
        }
      ]
    },
    {
      "cell_type": "code",
      "source": [
        ""
      ],
      "metadata": {
        "id": "bWAwtO79DB1Q"
      },
      "execution_count": null,
      "outputs": []
    }
  ]
}